{
  "nbformat": 4,
  "nbformat_minor": 0,
  "metadata": {
    "colab": {
      "provenance": [],
      "authorship_tag": "ABX9TyNqOIComuLPbcw1BCWHwQvd",
      "include_colab_link": true
    },
    "kernelspec": {
      "name": "python3",
      "display_name": "Python 3"
    },
    "language_info": {
      "name": "python"
    }
  },
  "cells": [
    {
      "cell_type": "markdown",
      "metadata": {
        "id": "view-in-github",
        "colab_type": "text"
      },
      "source": [
        "<a href=\"https://colab.research.google.com/github/Francisco-Sean-RJ/58010-DSAA/blob/main/Activity1.ipynb\" target=\"_parent\"><img src=\"https://colab.research.google.com/assets/colab-badge.svg\" alt=\"Open In Colab\"/></a>"
      ]
    },
    {
      "cell_type": "code",
      "execution_count": 1,
      "metadata": {
        "colab": {
          "base_uri": "https://localhost:8080/"
        },
        "id": "9t-z1LPtDeIb",
        "outputId": "5a518006-8c02-42df-8045-76a26492aefb"
      },
      "outputs": [
        {
          "output_type": "stream",
          "name": "stdout",
          "text": [
            "Sum of elements in the list: 110\n"
          ]
        }
      ],
      "source": [
        "# Creating a list of 10 integers and finding the sum of its elements, then printing the sum.\n",
        "integer_list = [2, 4, 6, 8, 10, 12, 14, 16, 18, 20]\n",
        "\n",
        "sum_of_elements = sum(integer_list)\n",
        "print(\"Sum of elements in the list:\", sum_of_elements)\n"
      ]
    },
    {
      "cell_type": "code",
      "source": [
        "# Extending a list by adding a new item (22) and displaying the updated list.\n",
        "number_list = [2, 4, 6, 8, 10, 12, 14, 16, 18, 20]\n",
        "new_integer = 22\n",
        "number_list.append(new_integer)\n",
        "\n",
        "print(\"Updated list:\", number_list)\n"
      ],
      "metadata": {
        "colab": {
          "base_uri": "https://localhost:8080/"
        },
        "id": "pgeS7QdODfXm",
        "outputId": "a56b952f-db00-4706-9a1e-4b2b97318ad8"
      },
      "execution_count": 2,
      "outputs": [
        {
          "output_type": "stream",
          "name": "stdout",
          "text": [
            "Updated list: [2, 4, 6, 8, 10, 12, 14, 16, 18, 20, 22]\n"
          ]
        }
      ]
    },
    {
      "cell_type": "code",
      "source": [
        "# Adding a new item (99) at a specific position (index 1) in a list and displaying the updated list.\n",
        "number_list = [1, 2, 3, 4, 5, 6, 7, 8, 9, 10]\n",
        "new_integer = 99\n",
        "insertion_position = 1\n",
        "\n",
        "number_list.insert(insertion_position, new_integer)\n",
        "\n",
        "print(\"Updated list:\", number_list)\n"
      ],
      "metadata": {
        "colab": {
          "base_uri": "https://localhost:8080/"
        },
        "id": "88L2P2eEDg5U",
        "outputId": "44969a3d-edb4-4db8-ba3c-4e3f72fde220"
      },
      "execution_count": 3,
      "outputs": [
        {
          "output_type": "stream",
          "name": "stdout",
          "text": [
            "Updated list: [1, 99, 2, 3, 4, 5, 6, 7, 8, 9, 10]\n"
          ]
        }
      ]
    },
    {
      "cell_type": "code",
      "source": [
        "# Reversing the order of elements in a list and displaying the reversed list.\n",
        "number_list = [5, 4, 3, 2, 1]\n",
        "\n",
        "reversed_list = number_list[::-1]\n",
        "\n",
        "print(\"Reversed list:\", reversed_list)\n"
      ],
      "metadata": {
        "colab": {
          "base_uri": "https://localhost:8080/"
        },
        "id": "HsvYwO2MDiWM",
        "outputId": "96cddd7e-3e10-4d38-9ac1-3dd576027d01"
      },
      "execution_count": 4,
      "outputs": [
        {
          "output_type": "stream",
          "name": "stdout",
          "text": [
            "Reversed list: [1, 2, 3, 4, 5]\n"
          ]
        }
      ]
    },
    {
      "cell_type": "code",
      "source": [
        "# Determining the length of a list and printing the length.\n",
        "number_list = [5, 4, 3, 2, 1]\n",
        "\n",
        "list_length = len(number_list)\n",
        "\n",
        "print(\"Length of the list:\", list_length)\n"
      ],
      "metadata": {
        "colab": {
          "base_uri": "https://localhost:8080/"
        },
        "id": "wARqRSwlDkMe",
        "outputId": "cc13b1b3-e01f-4fe4-d2c7-9621117de599"
      },
      "execution_count": 5,
      "outputs": [
        {
          "output_type": "stream",
          "name": "stdout",
          "text": [
            "Length of the list: 5\n"
          ]
        }
      ]
    }
  ]
}