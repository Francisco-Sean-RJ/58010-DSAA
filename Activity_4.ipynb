{
  "nbformat": 4,
  "nbformat_minor": 0,
  "metadata": {
    "colab": {
      "provenance": [],
      "authorship_tag": "ABX9TyMl4MiuPEnSzK/nuUt28FGK",
      "include_colab_link": true
    },
    "kernelspec": {
      "name": "python3",
      "display_name": "Python 3"
    },
    "language_info": {
      "name": "python"
    }
  },
  "cells": [
    {
      "cell_type": "markdown",
      "metadata": {
        "id": "view-in-github",
        "colab_type": "text"
      },
      "source": [
        "<a href=\"https://colab.research.google.com/github/Francisco-Sean-RJ/58010-DSAA/blob/main/Activity_4.ipynb\" target=\"_parent\"><img src=\"https://colab.research.google.com/assets/colab-badge.svg\" alt=\"Open In Colab\"/></a>"
      ]
    },
    {
      "cell_type": "code",
      "execution_count": 6,
      "metadata": {
        "colab": {
          "base_uri": "https://localhost:8080/"
        },
        "id": "DrCC9pMPLQqu",
        "outputId": "92640a75-f43b-4b74-f577-8b073b814285"
      },
      "outputs": [
        {
          "output_type": "stream",
          "name": "stdout",
          "text": [
            "['A', 'B', 'C']\n",
            "[]\n"
          ]
        }
      ],
      "source": [
        "queue = []\n",
        "#insert element in the queue, enqueue if inserting and dequeue if removing element\n",
        "queue.append('A')\n",
        "queue.append('B')\n",
        "queue.append('C')\n",
        "print(queue)\n",
        "\n",
        "queue.pop (0)\n",
        "queue.pop (0)\n",
        "queue.pop (0)\n",
        "print (queue)"
      ]
    },
    {
      "cell_type": "code",
      "source": [
        "def main():\n",
        "    even_list = []\n",
        "\n",
        "    # Enqueue even integers from 1 to 50 into the list\n",
        "    for i in range(1, 51):\n",
        "        if i % 2 == 0:\n",
        "            even_list.append(i)\n",
        "\n",
        "    # Dequeue (remove) elements from the list until it becomes empty\n",
        "    while even_list:\n",
        "        item = even_list.pop(0)\n",
        "        print(item)\n",
        "\n",
        "    # Print \"Queue is now empty\" when the list becomes empty\n",
        "    print(\"Queue is now empty\")\n",
        "\n",
        "if __name__ == \"__main__\":\n",
        "    main()\n"
      ],
      "metadata": {
        "colab": {
          "base_uri": "https://localhost:8080/"
        },
        "id": "9WNO0IM9RVRd",
        "outputId": "49f32172-ac9e-49f3-c16c-5745aa26bf67"
      },
      "execution_count": 17,
      "outputs": [
        {
          "output_type": "stream",
          "name": "stdout",
          "text": [
            "2\n",
            "4\n",
            "6\n",
            "8\n",
            "10\n",
            "12\n",
            "14\n",
            "16\n",
            "18\n",
            "20\n",
            "22\n",
            "24\n",
            "26\n",
            "28\n",
            "30\n",
            "32\n",
            "34\n",
            "36\n",
            "38\n",
            "40\n",
            "42\n",
            "44\n",
            "46\n",
            "48\n",
            "50\n",
            "Queue is now empty\n"
          ]
        }
      ]
    }
  ]
}