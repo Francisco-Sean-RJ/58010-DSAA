{
  "nbformat": 4,
  "nbformat_minor": 0,
  "metadata": {
    "colab": {
      "provenance": []
    },
    "kernelspec": {
      "name": "python3",
      "display_name": "Python 3"
    },
    "language_info": {
      "name": "python"
    }
  },
  "cells": [
    {
      "cell_type": "code",
      "execution_count": 7,
      "metadata": {
        "colab": {
          "base_uri": "https://localhost:8080/"
        },
        "id": "WdABDggQTtxv",
        "outputId": "430c111b-9ad6-4cdd-a098-8cdf07fbae30"
      },
      "outputs": [
        {
          "output_type": "stream",
          "name": "stdout",
          "text": [
            "['M', 'E', 'I', 'H', 'J', 'F', 'K', 'P']\n"
          ]
        }
      ],
      "source": [
        "#Display Graph Vertices\n",
        "\n",
        "class graph:\n",
        "   def __init__(self,gdict=None):\n",
        "      if gdict is None:\n",
        "         gdict = []\n",
        "      self.gdict = gdict\n",
        "# Get the keys of the dictionary\n",
        "   def getVertices(self):\n",
        "      return list(self.gdict.keys())\n",
        "# Create the dictionary with graph elements\n",
        "graph_elements = {\n",
        "   \"M\" : [\"E\"],\n",
        "   \"E\" : [\"I\", \"J\"],\n",
        "   \"I\" : [\"H\", \"F\"],\n",
        "   \"H\" : [\"J\",\"K\"],\n",
        "   \"J\" : [\"K\",\"E\"],\n",
        "   \"F\" : [\"I\", \"K\",\"P\"],\n",
        "   \"K\" : [\"E\", \"F\"],\n",
        "   \"P\" : [\"F\"],\n",
        "}\n",
        "g = graph(graph_elements)\n",
        "print(g.getVertices())"
      ]
    },
    {
      "cell_type": "markdown",
      "source": [],
      "metadata": {
        "id": "4z0Cl8RrUl50"
      }
    },
    {
      "cell_type": "markdown",
      "source": [
        "Vg28 - (M,E,I,H,K,J,F,P)\n",
        "\n",
        "Eg28 - (M,E) (E,I)  (E,J)  (I,H)  (I,F)  (H,J) (H,K) (J,K) (J,E) (F,I) (F,K) (F.P)(K,E)(K,F) (P,F)\n"
      ],
      "metadata": {
        "id": "8Yw8o1ebUK1H"
      }
    },
    {
      "cell_type": "code",
      "source": [
        "#Display Graph Edges\n",
        "\n",
        "class graph:\n",
        "   def __init__(self,gdict=None):\n",
        "      if gdict is None:\n",
        "         gdict = {}\n",
        "      self.gdict = gdict\n",
        "\n",
        "   def edges(self):\n",
        "      return self.findedges()\n",
        "# Find the distinct list of edges\n",
        "   def findedges(self):\n",
        "      edgename = []\n",
        "      for vrtx in self.gdict:\n",
        "         for nxtvrtx in self.gdict[vrtx]:\n",
        "            if {nxtvrtx, vrtx} not in edgename:\n",
        "               edgename.append({vrtx, nxtvrtx})\n",
        "      return edgename\n",
        "# Create the dictionary with graph elements\n",
        "graph_elements = {\n",
        "   \"M\" : [\"E\"],\n",
        "   \"E\" : [\"I\", \"J\"],\n",
        "   \"I\" : [\"H\", \"F\"],\n",
        "   \"H\" : [\"J\",\"K\"],\n",
        "   \"J\" : [\"K\",\"E\"],\n",
        "   \"F\" : [\"I\", \"K\",\"P\"],\n",
        "   \"K\" : [\"E\", \"F\"],\n",
        "   \"P\" : [\"F\"],\n",
        "}\n",
        "g = graph(graph_elements)\n",
        "print(g.edges())"
      ],
      "metadata": {
        "colab": {
          "base_uri": "https://localhost:8080/"
        },
        "id": "Ua_cDcaCT8Z8",
        "outputId": "297cb1b2-89e4-4eb6-e38d-ecf927ca09ad"
      },
      "execution_count": 4,
      "outputs": [
        {
          "output_type": "stream",
          "name": "stdout",
          "text": [
            "[{'M', 'E'}, {'I', 'E'}, {'E', 'J'}, {'I', 'H'}, {'F', 'I'}, {'H', 'J'}, {'H', 'K'}, {'J', 'K'}, {'F', 'K'}, {'F', 'P'}, {'E', 'K'}]\n"
          ]
        }
      ]
    }
  ]
}