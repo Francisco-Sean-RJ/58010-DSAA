{
  "nbformat": 4,
  "nbformat_minor": 0,
  "metadata": {
    "colab": {
      "provenance": [],
      "authorship_tag": "ABX9TyPGQ9Li4kmW4grI+4mJhOnm",
      "include_colab_link": true
    },
    "kernelspec": {
      "name": "python3",
      "display_name": "Python 3"
    },
    "language_info": {
      "name": "python"
    }
  },
  "cells": [
    {
      "cell_type": "markdown",
      "metadata": {
        "id": "view-in-github",
        "colab_type": "text"
      },
      "source": [
        "<a href=\"https://colab.research.google.com/github/Francisco-Sean-RJ/58010-DSAA/blob/main/Quiz_1.ipynb\" target=\"_parent\"><img src=\"https://colab.research.google.com/assets/colab-badge.svg\" alt=\"Open In Colab\"/></a>"
      ]
    },
    {
      "cell_type": "code",
      "source": [
        "surname = input(\"Enter your surname: \")\n",
        "first_name = input(\"Enter your first name: \")\n",
        "middle_initial = input(\"Enter your middle initial: \")\n",
        "\n",
        "full_name = surname + \" \" + first_name + \" \" + middle_initial\n",
        "\n",
        "characters = []\n",
        "\n",
        "for char in full_name:\n",
        "    characters.append(char)\n",
        "\n",
        "print(\"Characters in reverse order:\")\n",
        "for char in reversed(characters):\n",
        "    print(char)\n"
      ],
      "metadata": {
        "colab": {
          "base_uri": "https://localhost:8080/"
        },
        "id": "fYTybiGkKzIR",
        "outputId": "dd5f63f1-a5be-4995-cd2e-57294085894b"
      },
      "execution_count": 11,
      "outputs": [
        {
          "output_type": "stream",
          "name": "stdout",
          "text": [
            "Enter your surname: Francisco\n",
            "Enter your first name: Sean RJ\n",
            "Enter your middle initial: Esmabe\n",
            "Characters in reverse order:\n",
            "e\n",
            "b\n",
            "a\n",
            "m\n",
            "s\n",
            "E\n",
            " \n",
            "J\n",
            "R\n",
            " \n",
            "n\n",
            "a\n",
            "e\n",
            "S\n",
            " \n",
            "o\n",
            "c\n",
            "s\n",
            "i\n",
            "c\n",
            "n\n",
            "a\n",
            "r\n",
            "F\n"
          ]
        }
      ]
    },
    {
      "cell_type": "code",
      "source": [
        "for num in range(1, 11):\n",
        "    is_prime = True\n",
        "    if num <= 1:\n",
        "        is_prime = False\n",
        "    else:\n",
        "        for i in range(2, num):\n",
        "            if num % i == 0:\n",
        "                is_prime = False\n",
        "                break\n",
        "\n",
        "    if is_prime:\n",
        "        print(f\"{num} is prime.\")\n",
        "    else:\n",
        "        print(f\"{num} is composite.\")\n",
        "\n"
      ],
      "metadata": {
        "colab": {
          "base_uri": "https://localhost:8080/"
        },
        "id": "mNtb4zAPKYco",
        "outputId": "ff394f7f-64bb-4789-b8a3-505e1b12f483"
      },
      "execution_count": 12,
      "outputs": [
        {
          "output_type": "stream",
          "name": "stdout",
          "text": [
            "1 is composite.\n",
            "2 is prime.\n",
            "3 is prime.\n",
            "4 is composite.\n",
            "5 is prime.\n",
            "6 is composite.\n",
            "7 is prime.\n",
            "8 is composite.\n",
            "9 is composite.\n",
            "10 is composite.\n"
          ]
        }
      ]
    }
  ]
}