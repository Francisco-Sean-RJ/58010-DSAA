{
  "nbformat": 4,
  "nbformat_minor": 0,
  "metadata": {
    "colab": {
      "provenance": [],
      "authorship_tag": "ABX9TyNUlTizQSLuAWlchlYOqqlF",
      "include_colab_link": true
    },
    "kernelspec": {
      "name": "python3",
      "display_name": "Python 3"
    },
    "language_info": {
      "name": "python"
    }
  },
  "cells": [
    {
      "cell_type": "markdown",
      "metadata": {
        "id": "view-in-github",
        "colab_type": "text"
      },
      "source": [
        "<a href=\"https://colab.research.google.com/github/Francisco-Sean-RJ/58010-DSAA/blob/main/Activity_7_Display_Graph_Edgesclass_graph_def___init__(self%2Cgdict%3DNone)_if_gdict_is_None_gdict_%3D_%7B%7Dself_gdict_%3D_gdictdef_edges(self)_return_self_findedges()_Find_the_distinct_list_of_edgesdef_findedges(self)_edgename_%3D_%5B%5Dfor_vrtx_in_self_gdict_for_nxtv.ipynb\" target=\"_parent\"><img src=\"https://colab.research.google.com/assets/colab-badge.svg\" alt=\"Open In Colab\"/></a>"
      ]
    },
    {
      "cell_type": "code",
      "source": [
        "#Display Graph Edges\n",
        "\n",
        "class graph:\n",
        "   def __init__(self,gdict=None):\n",
        "      if gdict is None:\n",
        "         gdict = {}\n",
        "      self.gdict = gdict\n",
        "\n",
        "   def edges(self):\n",
        "      return self.findedges()\n",
        "# Find the distinct list of edges\n",
        "   def findedges(self):\n",
        "      edgename = []\n",
        "      for vrtx in self.gdict:\n",
        "         for nxtvrtx in self.gdict[vrtx]:\n",
        "            if {nxtvrtx, vrtx} not in edgename:\n",
        "               edgename.append({vrtx, nxtvrtx})\n",
        "      return edgename\n",
        "# Create the dictionary with graph elements\n",
        "graph_elements = {\n",
        "   \"q\" : [\"t\",\"s\",\"w\"],\n",
        "   \"w\" : [\"s\",\"v\"],\n",
        "   \"x\" : [\"y\",\"z\"],\n",
        "   \"s\" : [\"w\",\"v\"],\n",
        "   \"t\" : [\"x\", \"y\"],\n",
        "   \"r\" : [\"u\",\"y\"],\n",
        "   \"z\" : [\"x\",],\n",
        "   \"y\" : [\"u\", \"x\",\"q\"],\n",
        "}\n",
        "g = graph(graph_elements)\n",
        "print(g.edges())"
      ],
      "metadata": {
        "colab": {
          "base_uri": "https://localhost:8080/"
        },
        "id": "vMHItzsgnPSE",
        "outputId": "48909460-e52e-4931-d365-8f01c80d3ffe"
      },
      "execution_count": null,
      "outputs": [
        {
          "output_type": "stream",
          "name": "stdout",
          "text": [
            "[{'t', 'q'}, {'s', 'q'}, {'w', 'q'}, {'w', 's'}, {'w', 'v'}, {'y', 'x'}, {'z', 'x'}, {'s', 'v'}, {'t', 'x'}, {'y', 't'}, {'r', 'u'}, {'y', 'r'}, {'y', 'u'}, {'y', 'q'}]\n"
          ]
        }
      ]
    },
    {
      "cell_type": "code",
      "source": [
        "#Display Graph Vertices\n",
        "\n",
        "class graph:\n",
        "   def __init__(self,gdict=None):\n",
        "      if gdict is None:\n",
        "         gdict = []\n",
        "      self.gdict = gdict\n",
        "# Get the keys of the dictionary\n",
        "   def getVertices(self):\n",
        "      return list(self.gdict.keys())\n",
        "# Create the dictionary with graph elements\n",
        "graph_elements = {\n",
        "   \"q\" : [\"r\",\"s\"],\n",
        "   \"r\" : [\"a\"],\n",
        "   \"s\" : [\"a\"],\n",
        "   \"t\" : [\"a\"],\n",
        "   \"u\" : [\"a\"],\n",
        "   \"v\" : [\"a\",\"c\"],\n",
        "   \"w\" : [\"a\", \"d\"],\n",
        "   \"x\" : [\"a\", \"d\"],\n",
        "   \"y\" : [\"e\"],\n",
        "   \"z\" : [\"d\"]\n",
        "\n",
        "}\n",
        "g = graph(graph_elements)\n",
        "print(g.getVertices())"
      ],
      "metadata": {
        "colab": {
          "base_uri": "https://localhost:8080/"
        },
        "id": "Z6yCWsR1oP3b",
        "outputId": "8eaa9a6c-9662-4559-ac19-06c6d1944ec2"
      },
      "execution_count": null,
      "outputs": [
        {
          "output_type": "stream",
          "name": "stdout",
          "text": [
            "['q', 'r', 's', 't', 'u', 'v', 'w', 'x', 'y']\n"
          ]
        }
      ]
    }
  ]
}