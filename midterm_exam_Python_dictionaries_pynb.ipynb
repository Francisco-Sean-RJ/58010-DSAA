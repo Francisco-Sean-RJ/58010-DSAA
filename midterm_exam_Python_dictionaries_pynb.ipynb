{
  "nbformat": 4,
  "nbformat_minor": 0,
  "metadata": {
    "colab": {
      "provenance": [],
      "authorship_tag": "ABX9TyMVTpzeW/LPcYJTcGBrBreR",
      "include_colab_link": true
    },
    "kernelspec": {
      "name": "python3",
      "display_name": "Python 3"
    },
    "language_info": {
      "name": "python"
    }
  },
  "cells": [
    {
      "cell_type": "markdown",
      "metadata": {
        "id": "view-in-github",
        "colab_type": "text"
      },
      "source": [
        "<a href=\"https://colab.research.google.com/github/Francisco-Sean-RJ/58010-DSAA/blob/main/midterm_exam_Python_dictionaries_pynb.ipynb\" target=\"_parent\"><img src=\"https://colab.research.google.com/assets/colab-badge.svg\" alt=\"Open In Colab\"/></a>"
      ]
    },
    {
      "cell_type": "code",
      "execution_count": 7,
      "metadata": {
        "colab": {
          "base_uri": "https://localhost:8080/"
        },
        "id": "HLiiHefceTl1",
        "outputId": "c500f6df-3759-4471-c482-7196e3741aa8"
      },
      "outputs": [
        {
          "output_type": "stream",
          "name": "stdout",
          "text": [
            "['A', 'B', 'C', 'D', 'E', 'F', 'G', 'I', 'J', 'K', 'L', 'M', 'N', 'O', 'P']\n"
          ]
        }
      ],
      "source": [
        "#Display Graph Vertices\n",
        "\n",
        "class graph:\n",
        "   def __init__(self,gdict=None):\n",
        "      if gdict is None:\n",
        "         gdict = []\n",
        "      self.gdict = gdict\n",
        "# Get the keys of the dictionary\n",
        "   def getVertices(self):\n",
        "      return list(self.gdict.keys())\n",
        "# Create the dictionary with graph elements\n",
        "graph_elements = {\n",
        "   \"A\" : [\"B\",\"C\"],\n",
        "   \"B\" : [\"a\", \"d\"],\n",
        "   \"C\" : [\"a\", \"d\"],\n",
        "   \"D\" : [\"e\"],\n",
        "   \"E\" : [\"B\",\"C\"],\n",
        "   \"F\" : [\"a\", \"d\"],\n",
        "   \"G\" : [\"a\", \"d\"],\n",
        "   \"I\" : [\"e\"],\n",
        "   \"J\" : [\"B\",\"C\"],\n",
        "   \"K\" : [\"a\", \"d\"],\n",
        "   \"L\" : [\"a\", \"d\"],\n",
        "   \"M\" : [\"e\"],\n",
        "   \"N\" : [\"a\", \"d\"],\n",
        "   \"O\" : [\"a\", \"d\"],\n",
        "   \"P\" : [\"d\"]\n",
        "}\n",
        "g = graph(graph_elements)\n",
        "print(g.getVertices())"
      ]
    },
    {
      "cell_type": "markdown",
      "source": [
        "G29V= (A,B,C,D,E,F,G,I,J,K,L,M,N,O,P)"
      ],
      "metadata": {
        "id": "8_yRgBy8hd1m"
      }
    },
    {
      "cell_type": "code",
      "source": [
        "class graph:\n",
        "   def __init__(self,gdict=None):\n",
        "      if gdict is None:\n",
        "         gdict = {}\n",
        "      self.gdict = gdict\n",
        "\n",
        "   def edges(self):\n",
        "      return self.findedges()\n",
        "# Find the distinct list of edges\n",
        "   def findedges(self):\n",
        "      edgename = []\n",
        "      for vrtx in self.gdict:\n",
        "         for nxtvrtx in self.gdict[vrtx]:\n",
        "            if {nxtvrtx, vrtx} not in edgename:\n",
        "               edgename.append({vrtx, nxtvrtx})\n",
        "      return edgename\n",
        "# Create the dictionary with graph elements\n",
        "graph_elements = {\n",
        "   \"A\" : [\"B\",],\n",
        "   \"B\" : [\"C\",],\n",
        "   \"C\" : [\"D\", \"E\"],\n",
        "   \"N\" : [\"M\", \"O\", \"E\"],\n",
        "   \"P\" : [\"M\", \"O\", \"L\"],\n",
        "   \"D\" : [\"K\", \"L\"],\n",
        "   \"I\" : [\"K\", \"J\"],\n",
        "   \"G\" : [\"J\",\"F\"]\n",
        "}\n",
        "g = graph(graph_elements)\n",
        "print(g.edges())"
      ],
      "metadata": {
        "colab": {
          "base_uri": "https://localhost:8080/"
        },
        "id": "jYMv03a6gq5N",
        "outputId": "d227e39f-5ea0-4e91-c1e0-308fbfb8723e"
      },
      "execution_count": 5,
      "outputs": [
        {
          "output_type": "stream",
          "name": "stdout",
          "text": [
            "[{'A', 'B'}, {'B', 'C'}, {'D', 'C'}, {'E', 'C'}, {'M', 'N'}, {'O', 'N'}, {'E', 'N'}, {'M', 'P'}, {'O', 'P'}, {'L', 'P'}, {'K', 'D'}, {'D', 'L'}, {'I', 'K'}, {'I', 'J'}, {'J', 'G'}, {'F', 'G'}]\n"
          ]
        }
      ]
    },
    {
      "cell_type": "markdown",
      "source": [
        "(A,B)(B,C)(C,D)(C,E)(E,N)(N,M)(N,O)(O,P)(P,M)(M,L)(L,D)(D,K)(K,I)(I.J)(J,G)(G,F)"
      ],
      "metadata": {
        "id": "DtIf4D5MgxRt"
      }
    }
  ]
}