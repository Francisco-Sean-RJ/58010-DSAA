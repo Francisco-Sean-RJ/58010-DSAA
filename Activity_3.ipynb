{
  "nbformat": 4,
  "nbformat_minor": 0,
  "metadata": {
    "colab": {
      "provenance": [],
      "authorship_tag": "ABX9TyOKkyxjIhL9/8LvJXtXLVz8",
      "include_colab_link": true
    },
    "kernelspec": {
      "name": "python3",
      "display_name": "Python 3"
    },
    "language_info": {
      "name": "python"
    }
  },
  "cells": [
    {
      "cell_type": "markdown",
      "metadata": {
        "id": "view-in-github",
        "colab_type": "text"
      },
      "source": [
        "<a href=\"https://colab.research.google.com/github/Francisco-Sean-RJ/58010-DSAA/blob/main/Activity_3.ipynb\" target=\"_parent\"><img src=\"https://colab.research.google.com/assets/colab-badge.svg\" alt=\"Open In Colab\"/></a>"
      ]
    },
    {
      "cell_type": "code",
      "execution_count": 3,
      "metadata": {
        "colab": {
          "base_uri": "https://localhost:8080/"
        },
        "id": "ZkJEN1vlF5kp",
        "outputId": "c837ff7f-b4ca-4f67-96b1-5e6a41c1c1e6"
      },
      "outputs": [
        {
          "output_type": "stream",
          "name": "stdout",
          "text": [
            "Pushed Element: 1\n",
            "Pushed Element: 2\n",
            "Pushed Element: 3\n",
            "Pushed Element: 4\n",
            "Pushed Element: 5\n",
            "The elements in the stack are:['1', '2', '3', '4', '5']\n",
            "The length of the stack is: 5\n"
          ]
        }
      ],
      "source": [
        "# Stack implementation in python\n",
        "\n",
        "\n",
        "\n",
        "\n",
        "\n",
        "# Creating a stack\n",
        "\n",
        "def create_stack():\n",
        "\n",
        "    stack = []\n",
        "\n",
        "    return stack\n",
        "\n",
        "\n",
        "\n",
        "\n",
        "\n",
        "# Creating an empty stack\n",
        "\n",
        "def is_empty(stack):\n",
        "\n",
        "    return len(stack) == 0\n",
        "\n",
        "\n",
        "\n",
        "\n",
        "\n",
        "# Adding items into the stack\n",
        "\n",
        "def push(stack, item):\n",
        "\n",
        "    stack.append(item)\n",
        "\n",
        "    print(\"Pushed Element: \" + item)\n",
        "\n",
        "\n",
        "\n",
        "\n",
        "\n",
        "# Removing an element from the stack\n",
        "\n",
        "def pop(stack):\n",
        "\n",
        "    if (is_empty(stack)):\n",
        "\n",
        "        return \"The stack is empty\"\n",
        "\n",
        "    return stack.pop()\n",
        "\n",
        "\n",
        "\n",
        "\n",
        "\n",
        "\n",
        "stack = create_stack()\n",
        "\n",
        "push(stack, str(1))\n",
        "\n",
        "push(stack, str(2))\n",
        "\n",
        "push(stack, str(3))\n",
        "\n",
        "push(stack, str(4))\n",
        "\n",
        "push(stack, str(5))\n",
        "\n",
        "\n",
        "\n",
        "print(\"The elements in the stack are:\"+ str(stack))\n",
        "\n"
      ]
    },
    {
      "cell_type": "markdown",
      "source": [
        "Question number 1. Name of the Abstract Data Type and Implementation: The abstract data type implemented in the code is a stack, and it is implemented using a Python list."
      ],
      "metadata": {
        "id": "OzuDJPyqGuO6"
      }
    },
    {
      "cell_type": "markdown",
      "source": [
        "Question number 2 output of the Codes:\n",
        "After running the provided code, you will get the following output:\n",
        "Pushed Element: 1\n",
        "Pushed Element: 2\n",
        "Pushed Element: 3\n",
        "Pushed Element: 4\n",
        "Pushed Element: 5\n",
        "The elements in the stack are:['1', '2', '3', '4', '5']\n",
        " This output shows that elements 1 through 5 were pushed onto the stack, and the final contents of the stack are displayed.\n"
      ],
      "metadata": {
        "id": "JTjnCbmZG1xw"
      }
    },
    {
      "cell_type": "markdown",
      "source": [
        "Question number 3 Statement to Pop 3 Elements from the Top of the Stack:\n",
        "To pop three elements from the top of the stack, you can call the pop function three times. Here's the statement to do that:\n",
        "\n",
        "popped_element1 = pop(stack)\n",
        "popped_element2 = pop(stack)\n",
        "popped_element3 = pop(stack)\n",
        "\n",
        "This code will pop three elements from the top of the stack and store them in the variables popped_element1, popped_element2, and popped_element3."
      ],
      "metadata": {
        "id": "3y460MEfG6EJ"
      }
    },
    {
      "cell_type": "markdown",
      "source": [
        "Question number 4 Statement to Determine the Length of the Stack:\n",
        "To determine the length (number of elements) of the stack, you can add a new method to the code. You can define a function called stack_length that returns the length of the stack by using the len function. Here's how you can do it:\n",
        "\n",
        "def stack_length(stack):\n",
        "    return len(stack)\n",
        "You can then call this function to get the length of the stack:\n",
        "\n",
        "length = stack_length(stack)\n",
        "print(\"The length of the stack is:\", length)\n",
        "\n",
        "This code will print the length of the stack."
      ],
      "metadata": {
        "id": "fy0IX-6gJiMw"
      }
    }
  ]
}