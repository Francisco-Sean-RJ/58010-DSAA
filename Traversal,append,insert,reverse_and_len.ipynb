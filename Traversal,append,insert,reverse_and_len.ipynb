{
  "nbformat": 4,
  "nbformat_minor": 0,
  "metadata": {
    "colab": {
      "provenance": [],
      "authorship_tag": "ABX9TyORYzRnw/shh7hwtpn4fJbo",
      "include_colab_link": true
    },
    "kernelspec": {
      "name": "python3",
      "display_name": "Python 3"
    },
    "language_info": {
      "name": "python"
    }
  },
  "cells": [
    {
      "cell_type": "markdown",
      "metadata": {
        "id": "view-in-github",
        "colab_type": "text"
      },
      "source": [
        "<a href=\"https://colab.research.google.com/github/Francisco-Sean-RJ/58010-DSAA/blob/main/Traversal%2Cappend%2Cinsert%2Creverse_and_len.ipynb\" target=\"_parent\"><img src=\"https://colab.research.google.com/assets/colab-badge.svg\" alt=\"Open In Colab\"/></a>"
      ]
    },
    {
      "cell_type": "markdown",
      "source": [
        "1. Traversal.cpp"
      ],
      "metadata": {
        "id": "aptXlsoUIXdd"
      }
    },
    {
      "cell_type": "code",
      "source": [
        "#include<iostream>\n",
        "using namespace std;\n",
        "\n",
        "int main()\n",
        "{\n",
        "    int num[] = {1, 2, 3, 4, 5, 6, 7, 8, 9, 10};\n",
        "    int n = 10;\n",
        "\n",
        "    cout << \"Traversal Algorithm:\" << endl;\n",
        "    for (int i = 0; i < n; i++) // Changed condition to i < n\n",
        "    {\n",
        "        cout << \"num[\" << i << \"] = \" << num[i] << endl;\n",
        "    }\n",
        "\n",
        "    return 0;\n",
        "}\n",
        "#include<iostream>\n",
        "using namespace std;\n"
      ],
      "metadata": {
        "id": "Kl6mu-ovIar9"
      },
      "execution_count": null,
      "outputs": []
    },
    {
      "cell_type": "markdown",
      "source": [
        "2. Append.cpp"
      ],
      "metadata": {
        "id": "8Kloa4isIeuF"
      }
    },
    {
      "cell_type": "code",
      "source": [
        "#include<iostream>\n",
        "using namespace std;\n",
        "\n",
        "int main()\n",
        "{\n",
        "    int num[] = {1, 2, 3, 4, 5, 6, 7, 8, 9, 10};\n",
        "    int appendNumber = 11;\n",
        "    int size = sizeof(num) / sizeof(num[0]);\n",
        "\n",
        "    cout << \"Original Array: \";\n",
        "    for (int i = 0; i < size; i++)\n",
        "    {\n",
        "        cout << num[i] << \" \";\n",
        "    }\n",
        "\n",
        "    // Appending a new number (11) to the end of the array.\n",
        "    num[size] = appendNumber;\n",
        "\n",
        "    cout << \"\\nUpdated Array: \";\n",
        "    for (int i = 0; i <= size; i++)\n",
        "    {\n",
        "        cout << num[i] << \" \";\n",
        "    }\n",
        "\n",
        "    return 0;\n",
        "}\n"
      ],
      "metadata": {
        "id": "OCS3HMwkIkLl"
      },
      "execution_count": null,
      "outputs": []
    },
    {
      "cell_type": "markdown",
      "source": [
        "3. Insert.cpp"
      ],
      "metadata": {
        "id": "wIgXgn7hIy4G"
      }
    },
    {
      "cell_type": "code",
      "source": [
        "#include <iostream>\n",
        "using namespace std;\n",
        "\n",
        "int main() {\n",
        "    int numbers[] = {1, 2, 3, 4, 5, 6, 7, 8, 9, 10};\n",
        "    int newNumber = 11;\n",
        "    int insertPosition = 1;\n",
        "\n",
        "    int size = sizeof(numbers) / sizeof(numbers[0]);\n",
        "\n",
        "    cout << \"Original Array: \";\n",
        "    for (int i = 0; i < size; i++) {\n",
        "        cout << numbers[i] << \" \";\n",
        "    }\n",
        "\n",
        "    // Inserting a new number (11) at the specified position (1) in the array.\n",
        "    for (int i = size; i > insertPosition; i--) {\n",
        "        numbers[i] = numbers[i - 1];\n",
        "    }\n",
        "\n",
        "    numbers[insertPosition] = newNumber;\n",
        "\n",
        "    cout << \"\\nModified Array: \";\n",
        "    for (int i = 0; i <= size; i++) {\n",
        "        cout << numbers[i] << \" \";\n",
        "    }\n",
        "\n",
        "    return 0;\n",
        "}\n"
      ],
      "metadata": {
        "id": "6R0IE8LbI1eP"
      },
      "execution_count": null,
      "outputs": []
    },
    {
      "cell_type": "markdown",
      "source": [
        "4. Sort.cpp"
      ],
      "metadata": {
        "id": "AC0iKPTgIjhF"
      }
    },
    {
      "cell_type": "code",
      "source": [
        "#include <iostream>\n",
        "using namespace std;\n",
        "\n",
        "int main()\n",
        "{\n",
        "    int numbers[] = {5, 4, 3, 2, 1};\n",
        "    int size = sizeof(numbers) / sizeof(numbers[0]);\n",
        "\n",
        "    cout << \"Original Array: \";\n",
        "    for (int i = 0; i < size; i++)\n",
        "\t{\n",
        "        cout << numbers[i] << \" \";\n",
        "    }\n",
        "\n",
        "    // Reversing the order of elements in the array using a loop.\n",
        "    for (int i = 0; i < size / 2; i++)\n",
        "\t{\n",
        "        int temp = numbers[i];\n",
        "        numbers[i] = numbers[size - i - 1];\n",
        "        numbers[size - i - 1] = temp;\n",
        "    }\n",
        "\n",
        "    cout << \"\\nReversed Array: \";\n",
        "    for (int i = 0; i < size; i++)\n",
        "\t{\n",
        "        cout << numbers[i] << \" \";\n",
        "    }\n",
        "\n",
        "    return 0;\n",
        "}\n"
      ],
      "metadata": {
        "id": "pu_uQ7HFJUMM"
      },
      "execution_count": null,
      "outputs": []
    },
    {
      "cell_type": "markdown",
      "source": [
        "5. Len.cpp"
      ],
      "metadata": {
        "id": "UA6txAslJOXl"
      }
    },
    {
      "cell_type": "code",
      "source": [
        "#include <iostream>\n",
        "using namespace std;\n",
        "\n",
        "int main()\n",
        "{\n",
        "    int numbers[] = {5, 4, 3, 2, 1};\n",
        "    int length = sizeof(numbers) / sizeof(numbers[0]);\n",
        "    cout << \"The size of the array is: \" << length << endl;\n",
        "\n",
        "    return 0;\n",
        "}\n"
      ],
      "metadata": {
        "id": "dEmt4geRJUjW"
      },
      "execution_count": null,
      "outputs": []
    }
  ]
}