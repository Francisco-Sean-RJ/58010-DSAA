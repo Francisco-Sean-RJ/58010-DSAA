{
  "nbformat": 4,
  "nbformat_minor": 0,
  "metadata": {
    "colab": {
      "provenance": [],
      "authorship_tag": "ABX9TyOkO0//L1FUppIXYVZQ79Ww",
      "include_colab_link": true
    },
    "kernelspec": {
      "name": "python3",
      "display_name": "Python 3"
    },
    "language_info": {
      "name": "python"
    }
  },
  "cells": [
    {
      "cell_type": "markdown",
      "metadata": {
        "id": "view-in-github",
        "colab_type": "text"
      },
      "source": [
        "<a href=\"https://colab.research.google.com/github/Francisco-Sean-RJ/58010-DSAA/blob/main/Practical_Lab_Exam_Practical_Lab_Exam.ipynb\" target=\"_parent\"><img src=\"https://colab.research.google.com/assets/colab-badge.svg\" alt=\"Open In Colab\"/></a>"
      ]
    },
    {
      "cell_type": "code",
      "execution_count": 1,
      "metadata": {
        "colab": {
          "base_uri": "https://localhost:8080/"
        },
        "id": "f0HDytswEM6X",
        "outputId": "51e4a5e8-d323-4e2f-e402-671ce1a4849d"
      },
      "outputs": [
        {
          "output_type": "stream",
          "name": "stdout",
          "text": [
            "Sum of even test scores: 88\n"
          ]
        }
      ],
      "source": [
        "test_scores = [26, 49, 87, 62, 75]\n",
        "\n",
        "even_scores = [score for score in test_scores if score % 2 == 0]\n",
        "even_scores_total = sum(even_scores)\n",
        "\n",
        "print(\"Sum of even test scores:\", even_scores_total)\n"
      ]
    }
  ]
}