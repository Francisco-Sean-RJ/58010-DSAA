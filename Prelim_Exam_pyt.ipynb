{
  "nbformat": 4,
  "nbformat_minor": 0,
  "metadata": {
    "colab": {
      "provenance": [],
      "authorship_tag": "ABX9TyPg4Mqh7lIeR77Wv4UCPwtH",
      "include_colab_link": true
    },
    "kernelspec": {
      "name": "python3",
      "display_name": "Python 3"
    },
    "language_info": {
      "name": "python"
    }
  },
  "cells": [
    {
      "cell_type": "markdown",
      "metadata": {
        "id": "view-in-github",
        "colab_type": "text"
      },
      "source": [
        "<a href=\"https://colab.research.google.com/github/Francisco-Sean-RJ/58010-DSAA/blob/main/Prelim_Exam_pyt.ipynb\" target=\"_parent\"><img src=\"https://colab.research.google.com/assets/colab-badge.svg\" alt=\"Open In Colab\"/></a>"
      ]
    },
    {
      "cell_type": "code",
      "execution_count": 1,
      "metadata": {
        "colab": {
          "base_uri": "https://localhost:8080/"
        },
        "id": "Uwd5E1ICVYUh",
        "outputId": "e01de87b-f1bb-417b-838b-576b094bd248"
      },
      "outputs": [
        {
          "output_type": "stream",
          "name": "stdout",
          "text": [
            "Sorted Test Scores: [26, 49, 62, 75, 85, 87, 98]\n"
          ]
        }
      ],
      "source": [
        "test_scores = [26, 49, 98, 87, 62, 75]\n",
        "\n",
        "def add_test_score(score):\n",
        "    test_scores.append(score)\n",
        "\n",
        "def sort_test_scores():\n",
        "    test_scores.sort()\n",
        "\n",
        "new_score = 85\n",
        "add_test_score(new_score)\n",
        "\n",
        "sort_test_scores()\n",
        "\n",
        "print(\"Sorted Test Scores:\", test_scores)\n"
      ]
    }
  ]
}